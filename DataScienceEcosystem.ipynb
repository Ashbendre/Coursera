{
 "cells": [
  {
   "cell_type": "markdown",
   "id": "18ca2e6e",
   "metadata": {},
   "source": [
    "# Data Science tools and Ecosystem"
   ]
  },
  {
   "cell_type": "markdown",
   "id": "90fc69c3",
   "metadata": {},
   "source": [
    "## In this notebook, Datascience Tools and Ecosystem are summarized."
   ]
  },
  {
   "cell_type": "markdown",
   "id": "e7b8657d",
   "metadata": {},
   "source": [
    "### Some of the popular languages that Data scientists use are\n",
    "1. Python\n",
    "2. MySQL\n",
    "3. Tableau\n",
    "4. EDA\n"
   ]
  },
  {
   "cell_type": "markdown",
   "id": "e37291ed",
   "metadata": {},
   "source": [
    "### Some of the commonly used libraries used by Data Scientist include:\n",
    "1. Pandas\n",
    "2. Numpy\n",
    "3. Seaborn\n",
    "4. Matplotlib\n",
    "5. Scikit learn\n",
    "6. Spacy\n",
    "7. NLTK"
   ]
  },
  {
   "cell_type": "markdown",
   "id": "6aee9bf5",
   "metadata": {},
   "source": [
    "### Data science tools\n",
    "|Jupyter notebook |\n",
    "|RStudio  |\n",
    "\n"
   ]
  },
  {
   "cell_type": "markdown",
   "id": "623a189d",
   "metadata": {},
   "source": [
    "### Arthemetic Expression \n",
    "    ax+by+c=0"
   ]
  },
  {
   "cell_type": "code",
   "execution_count": 2,
   "id": "b227c9a8",
   "metadata": {},
   "outputs": [
    {
     "name": "stdout",
     "output_type": "stream",
     "text": [
      "sum: 14\n",
      "product: 45\n"
     ]
    }
   ],
   "source": [
    "# ADDING two numbers\n",
    "num1 = 5\n",
    "num2 = 9\n",
    "sum_result = num1 + num2\n",
    "product_result = num1 * num2\n",
    "print(\"sum:\", sum_result)\n",
    "print(\"product:\", product_result)"
   ]
  },
  {
   "cell_type": "code",
   "execution_count": 4,
   "id": "d48ad640",
   "metadata": {},
   "outputs": [
    {
     "name": "stdout",
     "output_type": "stream",
     "text": [
      "120 minutes is equal to 2.0  hours.\n"
     ]
    }
   ],
   "source": [
    "# converting minutes to hours\n",
    "minutes = 180\n",
    "hours = minutes/60\n",
    "print(minutes, \"minutes is equal to\", hours, \" hours.\")"
   ]
  },
  {
   "cell_type": "markdown",
   "id": "30b9c8b6",
   "metadata": {},
   "source": [
    "### Objectives:\n",
    "1. To become familiar with the jupyter interface.\n",
    "2. To become familiar with the github usage.\n"
   ]
  },
  {
   "cell_type": "markdown",
   "id": "7af64b88",
   "metadata": {},
   "source": [
    "### Author's name\n",
    "Aishwarya v Bendre"
   ]
  },
  {
   "cell_type": "code",
   "execution_count": null,
   "id": "b3dc152c",
   "metadata": {},
   "outputs": [],
   "source": []
  }
 ],
 "metadata": {
  "kernelspec": {
   "display_name": "Python 3 (ipykernel)",
   "language": "python",
   "name": "python3"
  },
  "language_info": {
   "codemirror_mode": {
    "name": "ipython",
    "version": 3
   },
   "file_extension": ".py",
   "mimetype": "text/x-python",
   "name": "python",
   "nbconvert_exporter": "python",
   "pygments_lexer": "ipython3",
   "version": "3.10.9"
  }
 },
 "nbformat": 4,
 "nbformat_minor": 5
}
